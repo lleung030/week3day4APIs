{
 "cells": [
  {
   "cell_type": "markdown",
   "metadata": {},
   "source": [
    "# APIs\n"
   ]
  },
  {
   "cell_type": "markdown",
   "metadata": {},
   "source": [
    "## Tasks Today:\n",
    "1) <b>Requests and the pokemon API </b> <br>\n",
    " "
   ]
  },
  {
   "cell_type": "markdown",
   "metadata": {},
   "source": [
    "# working with APis"
   ]
  },
  {
   "cell_type": "markdown",
   "metadata": {},
   "source": [
    "<p> What exactly is an API? <br> <br>\n",
    "API is the acronym for Application Programming Interface, which is a software intermediary that allows two applications to talk to each other. Each time you use an app like Facebook, send an instant message, or check the weather on your phone, you're using an API. </p>"
   ]
  },
  {
   "cell_type": "markdown",
   "metadata": {},
   "source": [
    "### The Poke API  allows you to retreive a pokemon's information from PokeAPI https://pokeapi.co/\n",
    "\n"
   ]
  },
  {
   "cell_type": "code",
   "execution_count": 13,
   "metadata": {},
   "outputs": [
    {
     "name": "stdout",
     "output_type": "stream",
     "text": [
      "What pokemon you want info for?psyduck\n",
      "<Response [200]>\n",
      "success\n"
     ]
    }
   ],
   "source": [
    "# making an API call\n",
    "import requests\n",
    "\n",
    "pokemon = input('What pokemon you want info for?')\n",
    "\n",
    "\n",
    "response = requests.get(f'https://pokeapi.co/api/v2/pokemon/{pokemon}')\n",
    "\n",
    "print(response)\n",
    "\n",
    "if response.status_code == 200:\n",
    "    print('success')\n",
    "    data = response.json()\n",
    "    \n",
    "    \n",
    "else:\n",
    "    print(f'error{response.status_code}')"
   ]
  },
  {
   "cell_type": "code",
   "execution_count": null,
   "metadata": {},
   "outputs": [],
   "source": [
    "pokemon = input('What pokemon you want info for?')\n",
    "\n",
    "\n",
    "response = requests.get(f'https://pokeapi.co/api/v2/pokemon/{pokemon}')\n",
    "data = response.json()"
   ]
  },
  {
   "cell_type": "markdown",
   "metadata": {},
   "source": [
    "### Display a Pokemon's name, weight, abilities, and types"
   ]
  },
  {
   "cell_type": "code",
   "execution_count": null,
   "metadata": {},
   "outputs": [],
   "source": []
  },
  {
   "cell_type": "code",
   "execution_count": 7,
   "metadata": {},
   "outputs": [
    {
     "name": "stdout",
     "output_type": "stream",
     "text": [
      "squirtle\n"
     ]
    }
   ],
   "source": [
    "# get the name\n",
    "name = data['name']\n",
    "print(name)"
   ]
  },
  {
   "cell_type": "code",
   "execution_count": 11,
   "metadata": {},
   "outputs": [
    {
     "name": "stdout",
     "output_type": "stream",
     "text": [
      "[{'slot': 1, 'type': {'name': 'water', 'url': 'https://pokeapi.co/api/v2/type/11/'}}]\n"
     ]
    }
   ],
   "source": [
    "# get types\n",
    "type = data['types']\n",
    "print(type)"
   ]
  },
  {
   "cell_type": "code",
   "execution_count": 10,
   "metadata": {},
   "outputs": [
    {
     "name": "stdout",
     "output_type": "stream",
     "text": [
      "90\n"
     ]
    }
   ],
   "source": [
    "# get weight\n",
    "print(data['weight'])"
   ]
  },
  {
   "cell_type": "code",
   "execution_count": 12,
   "metadata": {},
   "outputs": [
    {
     "name": "stdout",
     "output_type": "stream",
     "text": [
      "[{'ability': {'name': 'torrent', 'url': 'https://pokeapi.co/api/v2/ability/67/'}, 'is_hidden': False, 'slot': 1}, {'ability': {'name': 'rain-dish', 'url': 'https://pokeapi.co/api/v2/ability/44/'}, 'is_hidden': True, 'slot': 3}]\n"
     ]
    }
   ],
   "source": [
    "# get abilities\n",
    "print(data['abilities'])"
   ]
  },
  {
   "cell_type": "code",
   "execution_count": 16,
   "metadata": {},
   "outputs": [],
   "source": [
    "# Create a structure for a single pokemon\n",
    "ability_names = [ability['ability']['name'] for ability in data['abilities']]"
   ]
  },
  {
   "cell_type": "code",
   "execution_count": 17,
   "metadata": {},
   "outputs": [
    {
     "data": {
      "text/plain": [
       "['damp', 'cloud-nine', 'swift-swim']"
      ]
     },
     "execution_count": 17,
     "metadata": {},
     "output_type": "execute_result"
    }
   ],
   "source": [
    "ability_names"
   ]
  },
  {
   "cell_type": "code",
   "execution_count": 23,
   "metadata": {},
   "outputs": [],
   "source": [
    "pokemon = {\n",
    "    'abilities': ability_names,\n",
    "    'name': data['name'],\n",
    "    'weight': data['weight'],\n",
    "    'types': data['types']\n",
    "}"
   ]
  },
  {
   "cell_type": "code",
   "execution_count": 24,
   "metadata": {},
   "outputs": [
    {
     "data": {
      "text/plain": [
       "{'abilities': ['damp', 'cloud-nine', 'swift-swim'],\n",
       " 'name': 'psyduck',\n",
       " 'weight': 196,\n",
       " 'types': [{'slot': 1,\n",
       "   'type': {'name': 'water', 'url': 'https://pokeapi.co/api/v2/type/11/'}}]}"
      ]
     },
     "execution_count": 24,
     "metadata": {},
     "output_type": "execute_result"
    }
   ],
   "source": [
    "pokemon"
   ]
  },
  {
   "cell_type": "markdown",
   "metadata": {},
   "source": [
    "#### Create a function to Pull in your own Pokemon's data "
   ]
  },
  {
   "cell_type": "code",
   "execution_count": null,
   "metadata": {},
   "outputs": [],
   "source": [
    "import requests\n",
    "pokemon = input('What pokemon you want info for?')\n",
    "\n",
    "\n",
    "response = requests.get(f'https://pokeapi.co/api/v2/pokemon/{pokemon}')\n",
    "data = response.json()\n"
   ]
  },
  {
   "cell_type": "code",
   "execution_count": null,
   "metadata": {},
   "outputs": [],
   "source": []
  },
  {
   "cell_type": "code",
   "execution_count": null,
   "metadata": {},
   "outputs": [],
   "source": [
    "print(data['sprites']['front_default'])"
   ]
  },
  {
   "cell_type": "code",
   "execution_count": null,
   "metadata": {},
   "outputs": [],
   "source": []
  },
  {
   "cell_type": "code",
   "execution_count": 3,
   "metadata": {},
   "outputs": [
    {
     "name": "stdout",
     "output_type": "stream",
     "text": [
      "What pokemon you want info for?pikachu\n"
     ]
    }
   ],
   "source": [
    "import requests\n",
    "pokemon = input('What pokemon you want info for?')\n",
    "\n",
    "\n",
    "response = requests.get(f'https://pokeapi.co/api/v2/pokemon/{pokemon}')\n",
    "data = response.json()"
   ]
  },
  {
   "cell_type": "code",
   "execution_count": 4,
   "metadata": {},
   "outputs": [],
   "source": [
    "front_default = [data['sprites']['front_default']]"
   ]
  },
  {
   "cell_type": "code",
   "execution_count": 6,
   "metadata": {},
   "outputs": [
    {
     "name": "stdout",
     "output_type": "stream",
     "text": [
      "Pokemon name?: pikachu\n"
     ]
    },
    {
     "data": {
      "text/plain": [
       "{'abilities': ['static', 'lightning-rod'],\n",
       " 'name': 'pikachu',\n",
       " 'weight': 60,\n",
       " 'types': [{'slot': 1,\n",
       "   'type': {'name': 'electric', 'url': 'https://pokeapi.co/api/v2/type/13/'}}],\n",
       " 'height': 4,\n",
       " 'front default': ['https://raw.githubusercontent.com/PokeAPI/sprites/master/sprites/pokemon/25.png']}"
      ]
     },
     "execution_count": 6,
     "metadata": {},
     "output_type": "execute_result"
    }
   ],
   "source": [
    "# Create a function that does the following:\n",
    "# Asks a user to input a pokemon name\n",
    "# Requests the poke api for that pokemon's information\n",
    "# Creates the dictionary from above with that pokemons information\n",
    "    # In addition to the above keys, include the height and the \"front_default\" sprite\n",
    "# Returns the dictionary\n",
    "\n",
    "import requests\n",
    "\n",
    "\n",
    "def pokecall():\n",
    "    response = input('Pokemon name?: ')\n",
    "    \n",
    "    choice = requests.get(f'https://pokeapi.co/api/v2/pokemon/{response}')\n",
    "    \n",
    "    data = choice.json()\n",
    "    \n",
    "    ability_names = [ability['ability']['name'] for ability in data['abilities']]\n",
    "    \n",
    "    dict = {\n",
    "    'abilities': ability_names,\n",
    "    'name': data['name'],\n",
    "    'weight': data['weight'],\n",
    "    'types': data['types'],\n",
    "    'height': data['height'],\n",
    "    'front default': front_default\n",
    "    }\n",
    "    \n",
    "    return dict\n",
    "pokecall()\n"
   ]
  },
  {
   "cell_type": "code",
   "execution_count": 7,
   "metadata": {},
   "outputs": [
    {
     "name": "stdout",
     "output_type": "stream",
     "text": [
      "Pokemon name?: pikachu\n"
     ]
    },
    {
     "data": {
      "text/plain": [
       "{'abilities': ['static', 'lightning-rod'],\n",
       " 'name': 'pikachu',\n",
       " 'weight': 60,\n",
       " 'types': [{'slot': 1,\n",
       "   'type': {'name': 'electric', 'url': 'https://pokeapi.co/api/v2/type/13/'}}],\n",
       " 'height': 4,\n",
       " 'front default': ['https://raw.githubusercontent.com/PokeAPI/sprites/master/sprites/pokemon/25.png']}"
      ]
     },
     "execution_count": 7,
     "metadata": {},
     "output_type": "execute_result"
    }
   ],
   "source": [
    "# Create a function that does the following:\n",
    "# Asks a user to input a pokemon name\n",
    "# Requests the poke api for that pokemon's information\n",
    "# Creates the dictionary from above with that pokemons information\n",
    "    # In addition to the above keys, include the height and the \"front_default\" sprite\n",
    "# Returns the dictionary\n",
    "\n",
    "import requests\n",
    "\n",
    "\n",
    "def pokecall(pokemon=None):\n",
    "    if not pokemon:\n",
    "        \n",
    "        pokemon = input('Pokemon name?: ')\n",
    "    \n",
    "    choice = requests.get(f'https://pokeapi.co/api/v2/pokemon/{pokemon}')\n",
    "    \n",
    "    data = choice.json()\n",
    "    \n",
    "    ability_names = [ability['ability']['name'] for ability in data['abilities']]\n",
    "    \n",
    "    dict = {\n",
    "    'abilities': ability_names,\n",
    "    'name': data['name'],\n",
    "    'weight': data['weight'],\n",
    "    'types': data['types'],\n",
    "    'height': data['height'],\n",
    "    'front default': front_default\n",
    "    }\n",
    "    \n",
    "    return dict\n",
    "pokecall()\n"
   ]
  },
  {
   "cell_type": "code",
   "execution_count": 8,
   "metadata": {},
   "outputs": [],
   "source": [
    "your_team = ['electabuzz', 'haunter', 'tyranitar', 'blaziken', 'marowak', 'dragonair']\n",
    "\n",
    "your_team_pokemon=[]\n",
    "\n",
    "\n",
    "for teammate in your_team:\n",
    "    your_team_pokemon.append(pokecall(teammate))"
   ]
  },
  {
   "cell_type": "code",
   "execution_count": 9,
   "metadata": {},
   "outputs": [
    {
     "data": {
      "text/plain": [
       "[{'abilities': ['static', 'vital-spirit'],\n",
       "  'name': 'electabuzz',\n",
       "  'weight': 300,\n",
       "  'types': [{'slot': 1,\n",
       "    'type': {'name': 'electric',\n",
       "     'url': 'https://pokeapi.co/api/v2/type/13/'}}],\n",
       "  'height': 11,\n",
       "  'front default': ['https://raw.githubusercontent.com/PokeAPI/sprites/master/sprites/pokemon/25.png']},\n",
       " {'abilities': ['levitate'],\n",
       "  'name': 'haunter',\n",
       "  'weight': 1,\n",
       "  'types': [{'slot': 1,\n",
       "    'type': {'name': 'ghost', 'url': 'https://pokeapi.co/api/v2/type/8/'}},\n",
       "   {'slot': 2,\n",
       "    'type': {'name': 'poison', 'url': 'https://pokeapi.co/api/v2/type/4/'}}],\n",
       "  'height': 16,\n",
       "  'front default': ['https://raw.githubusercontent.com/PokeAPI/sprites/master/sprites/pokemon/25.png']},\n",
       " {'abilities': ['sand-stream', 'unnerve'],\n",
       "  'name': 'tyranitar',\n",
       "  'weight': 2020,\n",
       "  'types': [{'slot': 1,\n",
       "    'type': {'name': 'rock', 'url': 'https://pokeapi.co/api/v2/type/6/'}},\n",
       "   {'slot': 2,\n",
       "    'type': {'name': 'dark', 'url': 'https://pokeapi.co/api/v2/type/17/'}}],\n",
       "  'height': 20,\n",
       "  'front default': ['https://raw.githubusercontent.com/PokeAPI/sprites/master/sprites/pokemon/25.png']},\n",
       " {'abilities': ['blaze', 'speed-boost'],\n",
       "  'name': 'blaziken',\n",
       "  'weight': 520,\n",
       "  'types': [{'slot': 1,\n",
       "    'type': {'name': 'fire', 'url': 'https://pokeapi.co/api/v2/type/10/'}},\n",
       "   {'slot': 2,\n",
       "    'type': {'name': 'fighting', 'url': 'https://pokeapi.co/api/v2/type/2/'}}],\n",
       "  'height': 19,\n",
       "  'front default': ['https://raw.githubusercontent.com/PokeAPI/sprites/master/sprites/pokemon/25.png']},\n",
       " {'abilities': ['rock-head', 'lightning-rod', 'battle-armor'],\n",
       "  'name': 'marowak',\n",
       "  'weight': 450,\n",
       "  'types': [{'slot': 1,\n",
       "    'type': {'name': 'ground', 'url': 'https://pokeapi.co/api/v2/type/5/'}}],\n",
       "  'height': 10,\n",
       "  'front default': ['https://raw.githubusercontent.com/PokeAPI/sprites/master/sprites/pokemon/25.png']},\n",
       " {'abilities': ['shed-skin', 'marvel-scale'],\n",
       "  'name': 'dragonair',\n",
       "  'weight': 165,\n",
       "  'types': [{'slot': 1,\n",
       "    'type': {'name': 'dragon', 'url': 'https://pokeapi.co/api/v2/type/16/'}}],\n",
       "  'height': 40,\n",
       "  'front default': ['https://raw.githubusercontent.com/PokeAPI/sprites/master/sprites/pokemon/25.png']}]"
      ]
     },
     "execution_count": 9,
     "metadata": {},
     "output_type": "execute_result"
    }
   ],
   "source": [
    "list(map(pokecall, your_team))"
   ]
  },
  {
   "cell_type": "markdown",
   "metadata": {},
   "source": [
    "Choose your pokemon"
   ]
  },
  {
   "cell_type": "code",
   "execution_count": 14,
   "metadata": {},
   "outputs": [],
   "source": [
    "import requests\n",
    "\n",
    "def poke_api_call(pokemon=None):\n",
    "    if not pokemon:\n",
    "        pokemon = input('What pokemon do you want to select?')\n",
    "    \n",
    "    response = requests.get(f'https://pokeapi.co/api/v2/pokemon/{pokemon}')\n",
    "\n",
    "    if response.status_code == 200:\n",
    "        print('SUCCESS')\n",
    "        data = response.json()\n",
    "    else:\n",
    "        print(f'ERROR, STATUS CODE {response.status_code}')\n",
    "        return 'Error'\n",
    "    \n",
    "    ability_names = [item['ability']['name'] for item in data['abilities']]\n",
    "    \n",
    "    poke_dict = {\n",
    "        'abilities': ability_names,\n",
    "        'name': data['name'],\n",
    "        'types': data['types'],\n",
    "        'weight': data['weight'],\n",
    "        'height': data['height'],\n",
    "        'sprite': data['sprites']['front_default']\n",
    "    }\n",
    "    \n",
    "    return poke_dict"
   ]
  },
  {
   "cell_type": "code",
   "execution_count": 15,
   "metadata": {},
   "outputs": [
    {
     "name": "stdout",
     "output_type": "stream",
     "text": [
      "SUCCESS\n",
      "SUCCESS\n",
      "SUCCESS\n",
      "SUCCESS\n",
      "SUCCESS\n",
      "SUCCESS\n"
     ]
    }
   ],
   "source": [
    "from random import randint\n",
    "# Random number generated for each pokemon id\n",
    "random_team = [randint(1,898) for i in range(6)]\n",
    "\n",
    "your_team = ['electabuzz', 'haunter','tyranitar','blaziken','marowak','dragonair']\n",
    "\n",
    "your_team_pokemon = []\n",
    "\n",
    "for teammate in your_team:\n",
    "    your_team_pokemon.append(poke_api_call(teammate))"
   ]
  },
  {
   "cell_type": "code",
   "execution_count": 16,
   "metadata": {},
   "outputs": [
    {
     "data": {
      "text/plain": [
       "[821, 439, 85, 588, 527, 238]"
      ]
     },
     "execution_count": 16,
     "metadata": {},
     "output_type": "execute_result"
    }
   ],
   "source": [
    "random_team"
   ]
  },
  {
   "cell_type": "code",
   "execution_count": null,
   "metadata": {},
   "outputs": [],
   "source": []
  },
  {
   "cell_type": "markdown",
   "metadata": {},
   "source": [
    "#### Use your function to create a dictionary of your Johto League 6  (favorite 6 pokemon)"
   ]
  },
  {
   "cell_type": "code",
   "execution_count": 19,
   "metadata": {},
   "outputs": [
    {
     "name": "stdout",
     "output_type": "stream",
     "text": [
      "SUCCESS\n",
      "SUCCESS\n",
      "SUCCESS\n",
      "SUCCESS\n",
      "SUCCESS\n",
      "SUCCESS\n"
     ]
    }
   ],
   "source": [
    "# Place all 6 of your pokemon on the object below, each pokemon should have at least as much info as Pikachu did.\n",
    "my_six_pokemon = {}\n",
    "\n",
    "for teammate in random_team:\n",
    "    my_six_pokemon[teammate] = poke_api_call(teammate)"
   ]
  },
  {
   "cell_type": "code",
   "execution_count": 20,
   "metadata": {},
   "outputs": [
    {
     "data": {
      "text/plain": [
       "{821: {'abilities': ['keen-eye', 'unnerve', 'big-pecks'],\n",
       "  'name': 'rookidee',\n",
       "  'types': [{'slot': 1,\n",
       "    'type': {'name': 'flying', 'url': 'https://pokeapi.co/api/v2/type/3/'}}],\n",
       "  'weight': 18,\n",
       "  'height': 2,\n",
       "  'sprite': 'https://raw.githubusercontent.com/PokeAPI/sprites/master/sprites/pokemon/821.png'},\n",
       " 439: {'abilities': ['soundproof', 'filter', 'technician'],\n",
       "  'name': 'mime-jr',\n",
       "  'types': [{'slot': 1,\n",
       "    'type': {'name': 'psychic', 'url': 'https://pokeapi.co/api/v2/type/14/'}},\n",
       "   {'slot': 2,\n",
       "    'type': {'name': 'fairy', 'url': 'https://pokeapi.co/api/v2/type/18/'}}],\n",
       "  'weight': 130,\n",
       "  'height': 6,\n",
       "  'sprite': 'https://raw.githubusercontent.com/PokeAPI/sprites/master/sprites/pokemon/439.png'},\n",
       " 85: {'abilities': ['run-away', 'early-bird', 'tangled-feet'],\n",
       "  'name': 'dodrio',\n",
       "  'types': [{'slot': 1,\n",
       "    'type': {'name': 'normal', 'url': 'https://pokeapi.co/api/v2/type/1/'}},\n",
       "   {'slot': 2,\n",
       "    'type': {'name': 'flying', 'url': 'https://pokeapi.co/api/v2/type/3/'}}],\n",
       "  'weight': 852,\n",
       "  'height': 18,\n",
       "  'sprite': 'https://raw.githubusercontent.com/PokeAPI/sprites/master/sprites/pokemon/85.png'},\n",
       " 588: {'abilities': ['swarm', 'shed-skin', 'no-guard'],\n",
       "  'name': 'karrablast',\n",
       "  'types': [{'slot': 1,\n",
       "    'type': {'name': 'bug', 'url': 'https://pokeapi.co/api/v2/type/7/'}}],\n",
       "  'weight': 59,\n",
       "  'height': 5,\n",
       "  'sprite': 'https://raw.githubusercontent.com/PokeAPI/sprites/master/sprites/pokemon/588.png'},\n",
       " 527: {'abilities': ['unaware', 'klutz', 'simple'],\n",
       "  'name': 'woobat',\n",
       "  'types': [{'slot': 1,\n",
       "    'type': {'name': 'psychic', 'url': 'https://pokeapi.co/api/v2/type/14/'}},\n",
       "   {'slot': 2,\n",
       "    'type': {'name': 'flying', 'url': 'https://pokeapi.co/api/v2/type/3/'}}],\n",
       "  'weight': 21,\n",
       "  'height': 4,\n",
       "  'sprite': 'https://raw.githubusercontent.com/PokeAPI/sprites/master/sprites/pokemon/527.png'},\n",
       " 238: {'abilities': ['oblivious', 'forewarn', 'hydration'],\n",
       "  'name': 'smoochum',\n",
       "  'types': [{'slot': 1,\n",
       "    'type': {'name': 'ice', 'url': 'https://pokeapi.co/api/v2/type/15/'}},\n",
       "   {'slot': 2,\n",
       "    'type': {'name': 'psychic', 'url': 'https://pokeapi.co/api/v2/type/14/'}}],\n",
       "  'weight': 60,\n",
       "  'height': 4,\n",
       "  'sprite': 'https://raw.githubusercontent.com/PokeAPI/sprites/master/sprites/pokemon/238.png'}}"
      ]
     },
     "execution_count": 20,
     "metadata": {},
     "output_type": "execute_result"
    }
   ],
   "source": [
    "my_six_pokemon"
   ]
  },
  {
   "cell_type": "markdown",
   "metadata": {},
   "source": [
    "## Lets create a class called 'Pokemon' and create our pokemon as instances"
   ]
  },
  {
   "cell_type": "code",
   "execution_count": 21,
   "metadata": {},
   "outputs": [],
   "source": [
    "class Pokemon():\n",
    "    def __init__(self, name):\n",
    "        self.abilities = []\n",
    "        self.name = name\n",
    "        self.types = []\n",
    "        self.height = None\n",
    "        self.weight = None\n",
    "        self.sprite = None\n",
    "        self.poke_api_call()\n",
    "    \n",
    "    def poke_api_call(self):\n",
    "\n",
    "        response = requests.get(f'https://pokeapi.co/api/v2/pokemon/{self.name}')\n",
    "\n",
    "        if response.status_code == 200:\n",
    "            data = response.json()\n",
    "        else:\n",
    "            return 'Error'\n",
    "\n",
    "        ability_names = [item['ability']['name'] for item in data['abilities']]\n",
    "        \n",
    "        self.types = data['types']\n",
    "        self.abilities = ability_names\n",
    "        self.weight = data['weight']\n",
    "        self.height = data['height']\n",
    "        self.sprite = data['sprites']['front_default']\n",
    "        \n",
    "        "
   ]
  },
  {
   "cell_type": "code",
   "execution_count": 22,
   "metadata": {},
   "outputs": [],
   "source": [
    "pikachu = Pokemon('pikachu')\n"
   ]
  },
  {
   "cell_type": "code",
   "execution_count": 23,
   "metadata": {},
   "outputs": [
    {
     "name": "stdout",
     "output_type": "stream",
     "text": [
      "60\n"
     ]
    }
   ],
   "source": [
    "print(pikachu.weight)"
   ]
  },
  {
   "cell_type": "code",
   "execution_count": null,
   "metadata": {},
   "outputs": [],
   "source": []
  },
  {
   "cell_type": "markdown",
   "metadata": {},
   "source": [
    "### Let's Catch some Pokemon"
   ]
  },
  {
   "cell_type": "code",
   "execution_count": 59,
   "metadata": {},
   "outputs": [],
   "source": [
    "class Pokemon():\n",
    "    def __init__(self, name):\n",
    "        self.abilities = []\n",
    "        self.name = name\n",
    "        self.types = []\n",
    "        self.height = None\n",
    "        self.weight = None\n",
    "        self.sprite = None\n",
    "        self.poke_api_call()\n",
    "    \n",
    "    def poke_api_call(self):\n",
    "\n",
    "        response = requests.get(f'https://pokeapi.co/api/v2/pokemon/{self.name}')\n",
    "\n",
    "        if response.status_code == 200:\n",
    "            data = response.json()\n",
    "        else:\n",
    "            return 'Error'\n",
    "\n",
    "        ability_names = [item['ability']['name'] for item in data['abilities']]\n",
    "        \n",
    "        self.types = data['types']\n",
    "        self.abilities = ability_names\n",
    "        self.weight = data['weight']\n",
    "        self.height = data['height']\n",
    "        self.sprite = data['sprites']['front_default']\n",
    "        \n",
    "        "
   ]
  },
  {
   "cell_type": "code",
   "execution_count": 35,
   "metadata": {},
   "outputs": [],
   "source": [
    "import requests\n",
    "\n",
    "class Pokedex:\n",
    "    def __init__(self, player_name):\n",
    "        self.player_name = player_name\n",
    "        self.pokemon = {}\n",
    "        \n",
    "    def add_pokemon(self, pokemon_name):\n",
    "        self.pokemon[pokemon_name] = Pokemon(pokemon_name)\n",
    "        print(f\"{pokemon_name} was added to {self.player_name}'s pokedex.\")\n",
    "        \n",
    "    def search(self, name):\n",
    "        if name in self.pokemon:\n",
    "            x = self.pokemon[name]\n",
    "            print(f\"This pokemon {x.height} ft tall.\")\n",
    "            print(f\"This pokemon has weight of {x.weight} lbs.\")\n",
    "            print(f\"You pokemon's skillset {x.abilities} at this level.\")\n",
    "                                \n",
    "        \n",
    "\n",
    "    # Add a pokemon lookup method to lookup a pokemon and display it's information (In a user friendly way)\n"
   ]
  },
  {
   "cell_type": "code",
   "execution_count": 36,
   "metadata": {},
   "outputs": [],
   "source": [
    "hayden = Pokedex('hayden')"
   ]
  },
  {
   "cell_type": "code",
   "execution_count": 37,
   "metadata": {},
   "outputs": [
    {
     "name": "stdout",
     "output_type": "stream",
     "text": [
      "pikachu was added to hayden's pokedex.\n"
     ]
    }
   ],
   "source": [
    "hayden.add_pokemon('pikachu')"
   ]
  },
  {
   "cell_type": "code",
   "execution_count": 38,
   "metadata": {},
   "outputs": [
    {
     "name": "stdout",
     "output_type": "stream",
     "text": [
      "This pokemon 4 ft tall.\n",
      "This pokemon has weight of 60 lbs.\n",
      "You pokemon's skillset ['static', 'lightning-rod'] at this level.\n"
     ]
    }
   ],
   "source": [
    "hayden.search('pikachu')"
   ]
  },
  {
   "cell_type": "code",
   "execution_count": null,
   "metadata": {},
   "outputs": [],
   "source": []
  },
  {
   "cell_type": "code",
   "execution_count": 39,
   "metadata": {},
   "outputs": [],
   "source": [
    "dylans_pokedex = Pokedex('dylan')"
   ]
  },
  {
   "cell_type": "code",
   "execution_count": 40,
   "metadata": {},
   "outputs": [
    {
     "name": "stdout",
     "output_type": "stream",
     "text": [
      "ho-oh was added to dylan's pokedex.\n"
     ]
    }
   ],
   "source": [
    "dylans_pokedex.add_pokemon('ho-oh')"
   ]
  },
  {
   "cell_type": "code",
   "execution_count": 42,
   "metadata": {},
   "outputs": [
    {
     "data": {
      "text/plain": [
       "{'ho-oh': <__main__.Pokemon at 0x1106a79d0>}"
      ]
     },
     "execution_count": 42,
     "metadata": {},
     "output_type": "execute_result"
    }
   ],
   "source": [
    "dylans_pokedex.pokemon"
   ]
  },
  {
   "cell_type": "code",
   "execution_count": null,
   "metadata": {},
   "outputs": [],
   "source": []
  },
  {
   "cell_type": "code",
   "execution_count": null,
   "metadata": {},
   "outputs": [],
   "source": []
  },
  {
   "cell_type": "markdown",
   "metadata": {},
   "source": [
    "## Exercise 1:"
   ]
  },
  {
   "cell_type": "markdown",
   "metadata": {},
   "source": [
    "### Create a Method prints an image of your pokemon\n",
    "\n",
    "<p>HINT: You may need another attribute as well to store your image url within. </p>"
   ]
  },
  {
   "cell_type": "code",
   "execution_count": 36,
   "metadata": {},
   "outputs": [],
   "source": [
    "class Pokemon():\n",
    "    def __init__(self, name):\n",
    "        self.abilities = []\n",
    "        self.name = name\n",
    "        self.types = []\n",
    "        self.height = None\n",
    "        self.weight = None\n",
    "        self.sprite = None\n",
    "        self.poke_api_call()\n",
    "    \n",
    "    def poke_api_call(self):\n",
    "\n",
    "        response = requests.get(f'https://pokeapi.co/api/v2/pokemon/{self.name}')\n",
    "\n",
    "        if response.status_code == 200:\n",
    "            data = response.json()\n",
    "        else:\n",
    "            return 'Error'\n",
    "\n",
    "        ability_names = [item['ability']['name'] for item in data['abilities']]\n",
    "        \n",
    "        self.types = data['types']\n",
    "        self.abilities = ability_names\n",
    "        self.weight = data['weight']\n",
    "        self.height = data['height']\n",
    "        self.sprite = data['sprites']['front_default']\n",
    "        \n",
    "        \n",
    "        "
   ]
  },
  {
   "cell_type": "code",
   "execution_count": 44,
   "metadata": {},
   "outputs": [],
   "source": [
    "import requests\n",
    "from IPython.display import Image\n",
    "class Pokedex:\n",
    "    def __init__(self, player_name):\n",
    "        self.player_name = player_name\n",
    "        self.pokemon = {}\n",
    "        \n",
    "    def add_pokemon(self, pokemon_name):\n",
    "        self.pokemon[pokemon_name] = Pokemon(pokemon_name)\n",
    "        print(f\"{pokemon_name} was added to {self.player_name}'s pokedex.\")\n",
    "        \n",
    "    def search(self, pokemon_name):\n",
    "        if pokemon_name in self.pokemon:\n",
    "            x = self.pokemon[pokemon_name]\n",
    "            print(f\"This pokemon {x.height} ft tall.\")\n",
    "            print(f\"This pokemon has weight of {x.weight} lbs.\")\n",
    "            print(f\"You pokemon's skillset {x.abilities} at this level.\")\n",
    "                                \n",
    "    def image_search(self, pokemon_name):\n",
    "        if pokemon_name in self.pokemon:\n",
    "            x = self.pokemon[pokemon_name]\n",
    "            display(Image(x.sprite, width = 200))\n",
    "            \n",
    "\n",
    "    # Add a pokemon lookup method to lookup a pokemon and display it's information (In a user friendly way)\n"
   ]
  },
  {
   "cell_type": "code",
   "execution_count": 45,
   "metadata": {},
   "outputs": [],
   "source": [
    "hayden_pokedex = Pokedex('hayden')"
   ]
  },
  {
   "cell_type": "code",
   "execution_count": 46,
   "metadata": {},
   "outputs": [],
   "source": [
    "hayden_pokedex.search('squirtle')"
   ]
  },
  {
   "cell_type": "code",
   "execution_count": 47,
   "metadata": {},
   "outputs": [
    {
     "name": "stdout",
     "output_type": "stream",
     "text": [
      "squirtle was added to hayden's pokedex.\n"
     ]
    }
   ],
   "source": [
    "hayden_pokedex.add_pokemon('squirtle')"
   ]
  },
  {
   "cell_type": "code",
   "execution_count": 48,
   "metadata": {},
   "outputs": [
    {
     "data": {
      "image/png": "[encoded data removed]",
      "text/plain": [
       "<IPython.core.display.Image object>"
      ]
     },
     "metadata": {
      "image/png": {
       "width": 200
      }
     },
     "output_type": "display_data"
    }
   ],
   "source": [
    "from IPython.display import Image\n",
    "hayden_pokedex.image_search('squirtle')"
   ]
  },
  {
   "cell_type": "code",
   "execution_count": 49,
   "metadata": {},
   "outputs": [
    {
     "data": {
      "image/png": "[encoded data removed]",
      "text/plain": [
       "<IPython.core.display.Image object>"
      ]
     },
     "metadata": {
      "image/png": {
       "width": 200
      }
     },
     "output_type": "display_data"
    }
   ],
   "source": [
    "hayden_pokedex.image_search('squirtle')"
   ]
  },
  {
   "cell_type": "code",
   "execution_count": 50,
   "metadata": {},
   "outputs": [],
   "source": [
    "# Calling our new method\n"
   ]
  },
  {
   "cell_type": "markdown",
   "metadata": {},
   "source": [
    "## Exercise 2:"
   ]
  },
  {
   "cell_type": "markdown",
   "metadata": {},
   "source": [
    "### Create a Method that evolves your Pokemon\n",
    "If your pokemon can't evolve any further print a message that says \"\\<name of pokemon> can't evolve.\""
   ]
  },
  {
   "cell_type": "code",
   "execution_count": 133,
   "metadata": {},
   "outputs": [],
   "source": [
    "class Pokemon():\n",
    "    def __init__(self, name):\n",
    "        self.abilities = []\n",
    "        self.name = name\n",
    "        self.types = []\n",
    "        self.height = None\n",
    "        self.weight = None\n",
    "        self.sprite = None\n",
    "        self.poke_api_call()\n",
    "        self.identity = None\n",
    "    \n",
    "    def poke_api_call(self):\n",
    "\n",
    "        response = requests.get(f'https://pokeapi.co/api/v2/pokemon/{self.name}')\n",
    "\n",
    "        if response.status_code == 200:\n",
    "            data = response.json()\n",
    "        else:\n",
    "            return 'Error'\n",
    "\n",
    "        ability_names = [item['ability']['name'] for item in data['abilities']]\n",
    "        \n",
    "        self.types = data['types']\n",
    "        self.abilities = ability_names\n",
    "        self.weight = data['weight']\n",
    "        self.height = data['height']\n",
    "        self.sprite = data['sprites']['front_default']\n",
    "        self.identity = data['id']\n",
    "\n",
    "import requests\n",
    "from IPython.display import Image\n",
    "class Pokedex:\n",
    "    def __init__(self, player_name):\n",
    "        self.player_name = player_name\n",
    "        self.pokemon = {}\n",
    "        \n",
    "    def add_pokemon(self, name):\n",
    "        self.pokemon[name] = Pokemon(name)\n",
    "        print(f\"{name} was added to {self.player_name}'s pokedex.\")\n",
    "        \n",
    "    def search(self, name):\n",
    "        if name in self.pokemon:\n",
    "            x = self.pokemon[name]\n",
    "            print(f\"This pokemon {x.height} ft tall.\")\n",
    "            print(f\"This pokemon has weight of {x.weight} lbs.\")\n",
    "            print(f\"You pokemon's skillset {x.abilities} at this level.\")\n",
    "                                \n",
    "    def image_search(self, name):\n",
    "        if name in self.pokemon:\n",
    "            x = self.pokemon[name]\n",
    "            display(Image(x.sprite, width=200))\n",
    "            \n",
    "    def evolution(self, name):\n",
    "        if name in self.pokemon:\n",
    "            x = self.pokemon[name]\n",
    "            print(f\"Your {name} has evolving. Press 'B' to not evolve.\")\n",
    "                    "
   ]
  },
  {
   "cell_type": "markdown",
   "metadata": {},
   "source": [
    "Now let's evolve a few"
   ]
  },
  {
   "cell_type": "code",
   "execution_count": 134,
   "metadata": {
    "scrolled": true
   },
   "outputs": [],
   "source": [
    "hayden = Pokedex('hayden')"
   ]
  },
  {
   "cell_type": "code",
   "execution_count": 135,
   "metadata": {},
   "outputs": [
    {
     "name": "stdout",
     "output_type": "stream",
     "text": [
      "squirtle was added to hayden's pokedex.\n"
     ]
    }
   ],
   "source": [
    "hayden.add_pokemon('squirtle')"
   ]
  },
  {
   "cell_type": "code",
   "execution_count": 136,
   "metadata": {},
   "outputs": [
    {
     "data": {
      "image/png": "[encoded data removed]",
      "text/plain": [
       "<IPython.core.display.Image object>"
      ]
     },
     "metadata": {
      "image/png": {
       "width": 200
      }
     },
     "output_type": "display_data"
    }
   ],
   "source": [
    "hayden.image_search('squirtle')"
   ]
  },
  {
   "cell_type": "code",
   "execution_count": 137,
   "metadata": {},
   "outputs": [
    {
     "name": "stdout",
     "output_type": "stream",
     "text": [
      "Your squirtle has evolving. Press 'B' to not evolve.\n"
     ]
    }
   ],
   "source": [
    "hayden.evolution('squirtle')"
   ]
  },
  {
   "cell_type": "markdown",
   "metadata": {},
   "source": [
    "#  Final Exercise: <br> <br>Create a Move_Tutor Class that will allow the Pokemon Class to inherit a move list.\n",
    "<br>\n",
    "<p>for an added bonus you can make sure that if a pokemon has 4 moves the user can choose one of them to replace with a new move. </p>"
   ]
  },
  {
   "cell_type": "code",
   "execution_count": 69,
   "metadata": {},
   "outputs": [],
   "source": [
    "class Move_Tutor:\n",
    "    def __init__(self, trainer_name):\n",
    "        self.trainer_name = trainer_name\n",
    "        self.move_list = {}\n",
    "    \n",
    "    def __repr__(self):\n",
    "        return f'30/30'\n",
    "    \n",
    "    \n",
    "    def add_skill(self, skill):\n",
    "        if len(self.move_list)<4:\n",
    "            self.move_list[skill] = Move_Tutor(skill)\n",
    "            print(f\"...Poof! {self.trainer_name} added {skill} to Pokemon's skillset.\")\n",
    "        elif len(self.move_list)>=4:\n",
    "            print(f\"A move has to be deleted first!\")\n",
    "    \n",
    "    def delete_skill(self, name):\n",
    "        choice = input(f\"Would you like to delete move or keep current skillsets?: (y/n)\")\n",
    "        if choice == 'yes':\n",
    "            print(self.move_list)\n",
    "            response = input(f\"Which move would you like to delete?: \")\n",
    "            del self.move_list[response]\n",
    "            print(f\"...Poof! {response} has been removed from your Pokemon's skillset.\")\n",
    "            print(self.move_list)\n",
    "\n",
    "        elif choice == 'no':\n",
    "            print(f\"Pokemon did not learn move.\")"
   ]
  },
  {
   "cell_type": "code",
   "execution_count": 70,
   "metadata": {},
   "outputs": [],
   "source": [
    "hayden = Move_Tutor('Hayden')"
   ]
  },
  {
   "cell_type": "code",
   "execution_count": 71,
   "metadata": {},
   "outputs": [
    {
     "name": "stdout",
     "output_type": "stream",
     "text": [
      "...Poof! Hayden added thunderbolt to Pokemon's skillset.\n"
     ]
    }
   ],
   "source": [
    "hayden.add_skill('thunderbolt')"
   ]
  },
  {
   "cell_type": "code",
   "execution_count": 72,
   "metadata": {},
   "outputs": [
    {
     "name": "stdout",
     "output_type": "stream",
     "text": [
      "...Poof! Hayden added surf to Pokemon's skillset.\n"
     ]
    }
   ],
   "source": [
    "hayden.add_skill('surf')"
   ]
  },
  {
   "cell_type": "code",
   "execution_count": 73,
   "metadata": {},
   "outputs": [
    {
     "name": "stdout",
     "output_type": "stream",
     "text": [
      "...Poof! Hayden added ember to Pokemon's skillset.\n"
     ]
    }
   ],
   "source": [
    "hayden.add_skill('ember')"
   ]
  },
  {
   "cell_type": "code",
   "execution_count": 74,
   "metadata": {},
   "outputs": [
    {
     "name": "stdout",
     "output_type": "stream",
     "text": [
      "...Poof! Hayden added razorleaf to Pokemon's skillset.\n"
     ]
    }
   ],
   "source": [
    "hayden.add_skill('razorleaf')"
   ]
  },
  {
   "cell_type": "code",
   "execution_count": 75,
   "metadata": {},
   "outputs": [
    {
     "name": "stdout",
     "output_type": "stream",
     "text": [
      "A move has to be deleted first!\n"
     ]
    }
   ],
   "source": [
    "hayden.add_skill('solar beam')"
   ]
  },
  {
   "cell_type": "code",
   "execution_count": 76,
   "metadata": {},
   "outputs": [
    {
     "name": "stdout",
     "output_type": "stream",
     "text": [
      "A move has to be deleted first!\n"
     ]
    }
   ],
   "source": [
    "hayden.add_skill('tackle')"
   ]
  },
  {
   "cell_type": "code",
   "execution_count": 77,
   "metadata": {},
   "outputs": [
    {
     "name": "stdout",
     "output_type": "stream",
     "text": [
      "Would you like to delete move or keep current skillsets?: (y/n)yes\n",
      "{'thunderbolt': 30/30, 'surf': 30/30, 'ember': 30/30, 'razorleaf': 30/30}\n",
      "Which move would you like to delete?: ember\n",
      "...Poof! ember has been removed from your Pokemon's skillset.\n",
      "{'thunderbolt': 30/30, 'surf': 30/30, 'razorleaf': 30/30}\n"
     ]
    }
   ],
   "source": [
    "hayden.delete_skill('surf')"
   ]
  },
  {
   "cell_type": "code",
   "execution_count": null,
   "metadata": {},
   "outputs": [],
   "source": []
  },
  {
   "cell_type": "code",
   "execution_count": null,
   "metadata": {},
   "outputs": [],
   "source": []
  },
  {
   "cell_type": "code",
   "execution_count": null,
   "metadata": {},
   "outputs": [],
   "source": []
  },
  {
   "cell_type": "code",
   "execution_count": 81,
   "metadata": {},
   "outputs": [
    {
     "name": "stdout",
     "output_type": "stream",
     "text": [
      "What move would you like to teach pikachu? spark\n",
      "pikachu learned spark!\n"
     ]
    }
   ],
   "source": [
    "pikachu.teach_move()\n"
   ]
  },
  {
   "cell_type": "code",
   "execution_count": 79,
   "metadata": {},
   "outputs": [
    {
     "name": "stdout",
     "output_type": "stream",
     "text": [
      "pikachu's moves'\n",
      "thunder\n",
      "surf\n",
      "earthquake\n"
     ]
    }
   ],
   "source": [
    "pikachu.show_moves()"
   ]
  }
 ],
 "metadata": {
  "kernelspec": {
   "display_name": "Python 3 (ipykernel)",
   "language": "python",
   "name": "python3"
  },
  "language_info": {
   "codemirror_mode": {
    "name": "ipython",
    "version": 3
   },
   "file_extension": ".py",
   "mimetype": "text/x-python",
   "name": "python",
   "nbconvert_exporter": "python",
   "pygments_lexer": "ipython3",
   "version": "3.9.12"
  }
 },
 "nbformat": 4,
 "nbformat_minor": 4
}
